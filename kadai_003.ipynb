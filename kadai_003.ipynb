{
  "nbformat": 4,
  "nbformat_minor": 0,
  "metadata": {
    "colab": {
      "provenance": []
    },
    "kernelspec": {
      "name": "python3",
      "display_name": "Python 3"
    },
    "language_info": {
      "name": "python"
    }
  },
  "cells": [
    {
      "cell_type": "code",
      "execution_count": 1,
      "metadata": {
        "colab": {
          "base_uri": "https://localhost:8080/"
        },
        "id": "SBwEdIj65xZW",
        "outputId": "321fb346-8d81-4674-9d69-a43376549f14"
      },
      "outputs": [
        {
          "output_type": "stream",
          "name": "stdout",
          "text": [
            "[[ 4  5  6  7]\n",
            " [12 17 22 27]\n",
            " [20 29 38 47]]\n",
            "最大値: 47\n"
          ]
        }
      ],
      "source": [
        "#Step1:numpyをインポート\n",
        "import numpy as np\n",
        "\n",
        "# Step 2: AとBの行列を格納する多次元配列\n",
        "A = np.array([[0, 1],\n",
        "              [2, 3],\n",
        "              [4, 5]])\n",
        "B = np.array([[0, 1, 2, 3],\n",
        "              [4, 5, 6, 7]])\n",
        "\n",
        "# Step 3: 行列の積の計算\n",
        "C = np.dot(A, B)\n",
        "\n",
        "# Step 4: 計算結果を表示\n",
        "print(C)\n",
        "\n",
        "# Step 5: 行列の要素の最大値を求める\n",
        "max_value = np.max(C)\n",
        "print(\"最大値:\", max_value)"
      ]
    },
    {
      "cell_type": "code",
      "source": [],
      "metadata": {
        "id": "zy66kFJt5ygj"
      },
      "execution_count": null,
      "outputs": []
    }
  ]
}